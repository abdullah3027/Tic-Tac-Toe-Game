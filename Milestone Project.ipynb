{
 "cells": [
  {
   "cell_type": "code",
   "execution_count": 1,
   "id": "60bf4094",
   "metadata": {},
   "outputs": [],
   "source": [
    "from IPython.display import clear_output\n",
    "\n",
    "def display_board(board):\n",
    "    \n",
    "    clear_output()\n",
    "    \n",
    "    print(board[7]+'|'+board[8]+'|'+board[9])\n",
    "    print('-----')\n",
    "    print(board[4]+'|'+board[5]+'|'+board[6])\n",
    "    print('-----')\n",
    "    print(board[1]+'|'+board[2]+'|'+board[3])"
   ]
  },
  {
   "cell_type": "code",
   "execution_count": 2,
   "id": "fc496e70",
   "metadata": {},
   "outputs": [],
   "source": [
    "def user_input():\n",
    "    \n",
    "    mk_check=''\n",
    "    \n",
    "    while mk_check!='X' and mk_check!='O':\n",
    "        \n",
    "        mk_check=input(\"Player 1 choose marker X or O ? : \")\n",
    "        \n",
    "        if mk_check!='X' and mk_check!='O':\n",
    "            print('*Error in Input!*')\n",
    "        \n",
    "        player1=mk_check\n",
    "            \n",
    "        if player1=='X':\n",
    "             player2='O'\n",
    "        else:\n",
    "             player2='X'\n",
    "    \n",
    "    print('\\n')\n",
    "    print(f'Player 1 : {player1}')\n",
    "    print(f'Player 2 : {player2}')\n",
    "    \n",
    "    return (player1,player2)"
   ]
  },
  {
   "cell_type": "code",
   "execution_count": 3,
   "id": "e8df0e83",
   "metadata": {},
   "outputs": [],
   "source": [
    "def place_marker(board,marker,position):\n",
    "    \n",
    "    board[position]=marker\n",
    "    display_board(board)"
   ]
  },
  {
   "cell_type": "code",
   "execution_count": 4,
   "id": "2aefca9d",
   "metadata": {},
   "outputs": [],
   "source": [
    "def win_check(board,mark):\n",
    "    \n",
    "        if board[7]==board[8]==board[9]==mark:\n",
    "            check=True\n",
    "        elif board[4]==board[5]==board[6]==mark:\n",
    "            check=True\n",
    "        elif board[1]==board[2]==board[3]==mark:\n",
    "            check=True\n",
    "        elif board[7]==board[4]==board[1]==mark:\n",
    "            check=True\n",
    "        elif board[8]==board[5]==board[2]==mark:\n",
    "            check=True\n",
    "        elif board[9]==board[6]==board[3]==mark:\n",
    "            check=True\n",
    "        elif board[1]==board[5]==board[9]==mark:\n",
    "            check=True\n",
    "        elif board[7]==board[5]==board[3]==mark:\n",
    "            check=True\n",
    "        else:\n",
    "            check=False\n",
    "    \n",
    "        return check"
   ]
  },
  {
   "cell_type": "code",
   "execution_count": 5,
   "id": "7ef68fbf",
   "metadata": {},
   "outputs": [],
   "source": [
    "import random\n",
    "\n",
    "def first_turn():\n",
    "    \n",
    "    turn=random.randint(1,2)\n",
    "    \n",
    "    if turn==1:\n",
    "        return 'player1'\n",
    "    elif turn==2:\n",
    "        return 'player2'"
   ]
  },
  {
   "cell_type": "code",
   "execution_count": 6,
   "id": "5be612dc",
   "metadata": {},
   "outputs": [],
   "source": [
    "def space_check(board,position):\n",
    "    \n",
    "    if board[position]==' ':\n",
    "        return True\n",
    "    else:\n",
    "        return False"
   ]
  },
  {
   "cell_type": "code",
   "execution_count": 7,
   "id": "f227ee11",
   "metadata": {},
   "outputs": [],
   "source": [
    "def full_board_check(board):\n",
    "    \n",
    "    count=0\n",
    "    \n",
    "    for i in range(1,10):\n",
    "        if board[i]==' ':\n",
    "            count+=1\n",
    "        else:\n",
    "            pass\n",
    "        \n",
    "    if count>=1:\n",
    "        return False\n",
    "    else:\n",
    "        return True"
   ]
  },
  {
   "cell_type": "code",
   "execution_count": 8,
   "id": "74ebc6d3",
   "metadata": {},
   "outputs": [],
   "source": [
    "def player_choice(board):\n",
    "    \n",
    "    nxt_pos=int(input('What is your next position to play? : '))\n",
    "    \n",
    "    check_pos=space_check(board,nxt_pos)\n",
    "    \n",
    "    if check_pos==True:\n",
    "        return nxt_pos"
   ]
  },
  {
   "cell_type": "code",
   "execution_count": 9,
   "id": "17f12ba6",
   "metadata": {},
   "outputs": [],
   "source": [
    "def replay():\n",
    "    \n",
    "    ans=input('Do you want to play again? (Y/N) : ')\n",
    "    \n",
    "    if ans=='Y':\n",
    "        return True\n",
    "    elif ans=='N':\n",
    "        return False"
   ]
  },
  {
   "cell_type": "code",
   "execution_count": 10,
   "id": "9ee1293e",
   "metadata": {},
   "outputs": [
    {
     "name": "stdout",
     "output_type": "stream",
     "text": [
      "X|O|O\n",
      "-----\n",
      "X|O|O\n",
      "-----\n",
      "X| |X\n",
      "Player 1 WINS !\n",
      "Do you want to play again? (Y/N) : N\n",
      "Game Over :)\n"
     ]
    }
   ],
   "source": [
    "print('Welcome to Tic Tac Toe !')\n",
    "\n",
    "rep=True\n",
    "\n",
    "while rep is True:\n",
    "    \n",
    "    board=['#',' ',' ',' ',' ',' ',' ',' ',' ',' ']\n",
    "    mark_select=user_input()\n",
    "    turn=first_turn()\n",
    "    \n",
    "    print(f'{turn} will go first ! ')\n",
    "    \n",
    "    comp=False\n",
    "    \n",
    "    while comp==False:\n",
    "        \n",
    "        if turn=='player1':\n",
    "            secnd='player2'\n",
    "            mk1=mark_select[0]\n",
    "            mk2=mark_select[1]\n",
    "        else:\n",
    "            secnd='player1'\n",
    "            mk1=mark_select[1]\n",
    "            mk2=mark_select[0]\n",
    "            \n",
    "        print('\\n')\n",
    "            \n",
    "        print(f'{turn} turn ---')\n",
    "        pos=player_choice(board)\n",
    "        place_marker(board,mk1,pos)\n",
    "        \n",
    "        print(f'{secnd} turn ---')\n",
    "        pos=player_choice(board)\n",
    "        place_marker(board,mk2,pos)\n",
    "        \n",
    "        pl1_win=win_check(board,mk1)\n",
    "        pl2_win=win_check(board,mk2)\n",
    "        \n",
    "        if pl1_win==True:\n",
    "            print('Player 1 WINS !')\n",
    "            break\n",
    "        elif pl2_win==True:\n",
    "            print('Player 2 WINS !')\n",
    "            break\n",
    "        else:\n",
    "            pass\n",
    "        \n",
    "        comp=full_board_check(board)\n",
    "        \n",
    "        if comp==True:\n",
    "            print('Board is full')\n",
    "    \n",
    "    rep=replay()\n",
    "    \n",
    "    if rep==False:\n",
    "        break\n",
    "\n",
    "print('Game Over :)')\n",
    "        \n",
    "    \n",
    "    \n",
    "    \n",
    "    "
   ]
  },
  {
   "cell_type": "code",
   "execution_count": null,
   "id": "984da1ad",
   "metadata": {},
   "outputs": [],
   "source": []
  }
 ],
 "metadata": {
  "kernelspec": {
   "display_name": "Python 3 (ipykernel)",
   "language": "python",
   "name": "python3"
  },
  "language_info": {
   "codemirror_mode": {
    "name": "ipython",
    "version": 3
   },
   "file_extension": ".py",
   "mimetype": "text/x-python",
   "name": "python",
   "nbconvert_exporter": "python",
   "pygments_lexer": "ipython3",
   "version": "3.9.7"
  }
 },
 "nbformat": 4,
 "nbformat_minor": 5
}
